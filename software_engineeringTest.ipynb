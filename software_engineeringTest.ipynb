{
  "nbformat": 4,
  "nbformat_minor": 0,
  "metadata": {
    "colab": {
      "provenance": [],
      "authorship_tag": "ABX9TyOyu5KVs8HqwTigSJvNLkeg",
      "include_colab_link": true
    },
    "kernelspec": {
      "name": "python3",
      "display_name": "Python 3"
    },
    "language_info": {
      "name": "python"
    }
  },
  "cells": [
    {
      "cell_type": "markdown",
      "metadata": {
        "id": "view-in-github",
        "colab_type": "text"
      },
      "source": [
        "<a href=\"https://colab.research.google.com/github/Wjaehyun/enginerringTest/blob/master/software_engineeringTest.ipynb\" target=\"_parent\"><img src=\"https://colab.research.google.com/assets/colab-badge.svg\" alt=\"Open In Colab\"/></a>"
      ]
    },
    {
      "cell_type": "code",
      "execution_count": 2,
      "metadata": {
        "colab": {
          "base_uri": "https://localhost:8080/"
        },
        "id": "uOxGA0_2TI4k",
        "outputId": "8123acfb-dc49-4e55-995e-3af37452ca6d"
      },
      "outputs": [
        {
          "output_type": "stream",
          "name": "stdout",
          "text": [
            "Downloading data from https://storage.googleapis.com/tensorflow/tf-keras-datasets/train-labels-idx1-ubyte.gz\n",
            "29515/29515 [==============================] - 0s 0us/step\n",
            "Downloading data from https://storage.googleapis.com/tensorflow/tf-keras-datasets/train-images-idx3-ubyte.gz\n",
            "26421880/26421880 [==============================] - 1s 0us/step\n",
            "Downloading data from https://storage.googleapis.com/tensorflow/tf-keras-datasets/t10k-labels-idx1-ubyte.gz\n",
            "5148/5148 [==============================] - 0s 0us/step\n",
            "Downloading data from https://storage.googleapis.com/tensorflow/tf-keras-datasets/t10k-images-idx3-ubyte.gz\n",
            "4422102/4422102 [==============================] - 1s 0us/step\n",
            "Model: \"sequential\"\n",
            "_________________________________________________________________\n",
            " Layer (type)                Output Shape              Param #   \n",
            "=================================================================\n",
            " conv2d (Conv2D)             (None, 28, 28, 32)        320       \n",
            "                                                                 \n",
            " max_pooling2d (MaxPooling2D  (None, 14, 14, 32)       0         \n",
            " )                                                               \n",
            "                                                                 \n",
            " conv2d_1 (Conv2D)           (None, 14, 14, 64)        18496     \n",
            "                                                                 \n",
            " max_pooling2d_1 (MaxPooling  (None, 7, 7, 64)         0         \n",
            " 2D)                                                             \n",
            "                                                                 \n",
            " flatten (Flatten)           (None, 3136)              0         \n",
            "                                                                 \n",
            " dense (Dense)               (None, 256)               803072    \n",
            "                                                                 \n",
            " dropout (Dropout)           (None, 256)               0         \n",
            "                                                                 \n",
            " dense_1 (Dense)             (None, 256)               65792     \n",
            "                                                                 \n",
            " dropout_1 (Dropout)         (None, 256)               0         \n",
            "                                                                 \n",
            " dense_2 (Dense)             (None, 10)                2570      \n",
            "                                                                 \n",
            "=================================================================\n",
            "Total params: 890,250\n",
            "Trainable params: 890,250\n",
            "Non-trainable params: 0\n",
            "_________________________________________________________________\n"
          ]
        }
      ],
      "source": [
        "from tensorflow import keras\n",
        "from sklearn.model_selection import train_test_split\n",
        "import matplotlib.pyplot as plt\n",
        "\n",
        "(train_input, train_target), (test_input, test_target) = keras.datasets.fashion_mnist.load_data()\n",
        "\n",
        "# 사진 개수, 가로, 세로, 흑백/칼라\n",
        "train_scaled = train_input.reshape(60000, 28, 28, 1) / 255\n",
        "test_scaled = test_input.reshape(10000, 28, 28, 1) / 255\n",
        "\n",
        "# 학습할 때, validation_data = (test_scaled, test_target)\n",
        "# 시험데이터로 평가할 때는 1번만 해야함\n",
        "\n",
        "# 검증 데이터 만들기\n",
        "train_scaled, val_scaled, train_target, val_target = train_test_split(train_scaled, train_target, test_size = 0.1)\n",
        "\n",
        "# 인공신경망 모델 만들기\n",
        "model = keras.Sequential()\n",
        "# 32개의 특징을 잡고 학습\n",
        "model.add(keras.layers.Conv2D(32, kernel_size = (3,3), activation='relu', padding ='same', input_shape = (28,28,1)))\n",
        "model.add(keras.layers.MaxPooling2D(2)) # 2배로 줄여라\n",
        "# 64개의 특징을 잡고 학습\n",
        "model.add(keras.layers.Conv2D(64, kernel_size = (3,3), activation='relu', padding ='same'))\n",
        "model.add(keras.layers.MaxPooling2D(2)) # 2배로 줄여라\n",
        "\n",
        "# 은닉사진 쭉 한줄로 펴기\n",
        "model.add(keras.layers.Flatten())\n",
        "\n",
        "# 은닉층에 넣기\n",
        "# 은닉층에 깊게 넣는게 마냥 좋나? -> 깊게 안넣어도 잘 나오면 안 넣어도 된다.\n",
        "model.add(keras.layers.Dense(256, activation = 'relu')) #\n",
        "model.add(keras.layers.Dropout(0.4))\n",
        "model.add(keras.layers.Dense(256, activation = 'relu')) #\n",
        "model.add(keras.layers.Dropout(0.4))\n",
        "# 10개의 출력층으로 이동\n",
        "model.add(keras.layers.Dense(10, activation = 'softmax'))\n",
        "\n",
        "model.summary()"
      ]
    },
    {
      "cell_type": "code",
      "source": [],
      "metadata": {
        "id": "s4W591KwThPq"
      },
      "execution_count": null,
      "outputs": []
    }
  ]
}